{
 "cells": [
  {
   "cell_type": "code",
   "execution_count": 1,
   "id": "35649cad",
   "metadata": {},
   "outputs": [
    {
     "name": "stdout",
     "output_type": "stream",
     "text": [
      "                      Employee    Month  Score     Rank_Type\n",
      "0      kayne.coulter@enron.com  2010-01      5  Top Positive\n",
      "1     patti.thompson@enron.com  2010-01      5  Top Positive\n",
      "2       don.baughman@enron.com  2010-01      4  Top Positive\n",
      "3      rhonda.denton@enron.com  2010-01      0  Top Negative\n",
      "4      johnny.palmer@enron.com  2010-01      1  Top Negative\n",
      "5  bobette.riner@ipgdirect.com  2010-01      2  Top Negative\n",
      "6  bobette.riner@ipgdirect.com  2010-02      7  Top Positive\n",
      "7        john.arnold@enron.com  2010-02      7  Top Positive\n",
      "8       don.baughman@enron.com  2010-02      6  Top Positive\n",
      "9      lydia.delgado@enron.com  2010-02      1  Top Negative\n"
     ]
    },
    {
     "name": "stderr",
     "output_type": "stream",
     "text": [
      "/var/folders/c5/mz9hpfrx0z31x01r1tt_sxx80000gn/T/ipykernel_18075/1306363757.py:33: FutureWarning: DataFrameGroupBy.apply operated on the grouping columns. This behavior is deprecated, and in a future version of pandas the grouping columns will be excluded from the operation. Either pass `include_groups=False` to exclude the groupings or explicitly select the grouping columns after groupby to silence this warning.\n",
      "  rankings = df.groupby(\"Month\", group_keys=False).apply(get_rankings).reset_index(drop=True)\n"
     ]
    }
   ],
   "source": [
    "# ------------------------------------------------------------\n",
    "# 📍 0. Notebook Title & Purpose\n",
    "# Employee Sentiment Analysis · Task 4: Ranking Employees\n",
    "# ------------------------------------------------------------\n",
    "\n",
    "# ------------------------------------------------------------\n",
    "# 📍 1. Imports\n",
    "import pandas as pd\n",
    "from pathlib import Path\n",
    "\n",
    "# ------------------------------------------------------------\n",
    "# 📍 2. Load Monthly Scores\n",
    "df = pd.read_csv(\"../data/processed/monthly_sentiment_scores.csv\")\n",
    "df[\"Month\"] = pd.PeriodIndex(df[\"Month\"], freq=\"M\")\n",
    "\n",
    "# ------------------------------------------------------------\n",
    "# 📍 3. Define Ranking Logic\n",
    "def get_rankings(group):\n",
    "    top = (\n",
    "        group.sort_values(by=[\"Score\", \"Employee\"], ascending=[False, True])\n",
    "             .head(3)\n",
    "             .assign(Rank_Type=\"Top Positive\")\n",
    "    )\n",
    "    bottom = (\n",
    "        group.sort_values(by=[\"Score\", \"Employee\"], ascending=[True, True])\n",
    "             .head(3)\n",
    "             .assign(Rank_Type=\"Top Negative\")\n",
    "    )\n",
    "    return pd.concat([top, bottom])\n",
    "\n",
    "# ------------------------------------------------------------\n",
    "# 📍 4. Apply Ranking Per Month\n",
    "rankings = df.groupby(\"Month\", group_keys=False).apply(get_rankings).reset_index(drop=True)\n",
    "\n",
    "# Preview\n",
    "print(rankings.head(10))\n",
    "\n",
    "# ------------------------------------------------------------\n",
    "# 📍 5. Save Rankings to File\n",
    "rankings.to_csv(\"../data/processed/monthly_employee_rankings.csv\", index=False)\n"
   ]
  }
 ],
 "metadata": {
  "kernelspec": {
   "display_name": "venv",
   "language": "python",
   "name": "python3"
  },
  "language_info": {
   "codemirror_mode": {
    "name": "ipython",
    "version": 3
   },
   "file_extension": ".py",
   "mimetype": "text/x-python",
   "name": "python",
   "nbconvert_exporter": "python",
   "pygments_lexer": "ipython3",
   "version": "3.13.3"
  }
 },
 "nbformat": 4,
 "nbformat_minor": 5
}
