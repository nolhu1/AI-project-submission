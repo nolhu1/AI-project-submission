{
 "cells": [
  {
   "cell_type": "code",
   "execution_count": 1,
   "id": "194585c0",
   "metadata": {},
   "outputs": [],
   "source": [
    "# 📍 1. Imports\n",
    "import pandas as pd\n",
    "import numpy as np\n",
    "from sklearn.linear_model import LinearRegression\n",
    "from sklearn.model_selection import train_test_split\n",
    "from sklearn.metrics import mean_squared_error, r2_score\n",
    "from pathlib import Path"
   ]
  },
  {
   "cell_type": "code",
   "execution_count": 2,
   "id": "8fb0544a",
   "metadata": {},
   "outputs": [],
   "source": [
    "# 📍 2. Load & Preprocess\n",
    "df = pd.read_csv(\"../data/processed/labeled_messages.csv\")\n",
    "df[\"date_parsed\"] = pd.to_datetime(df[\"date_parsed\"], errors=\"coerce\")\n",
    "df = df.dropna(subset=[\"date_parsed\"])\n",
    "\n",
    "# Sentiment to numeric\n",
    "sentiment_map = {\"Positive\": 1, \"Negative\": -1, \"Neutral\": 0}\n",
    "df[\"Sentiment_Score\"] = df[\"Sentiment\"].map(sentiment_map)\n",
    "\n",
    "# Message features\n",
    "df[\"char_count\"] = df[\"text\"].astype(str).apply(len)\n",
    "df[\"word_count\"] = df[\"text\"].astype(str).apply(lambda x: len(x.split()))\n",
    "df[\"Month\"] = df[\"date_parsed\"].dt.to_period(\"M\")"
   ]
  },
  {
   "cell_type": "code",
   "execution_count": 3,
   "id": "eb775097",
   "metadata": {},
   "outputs": [],
   "source": [
    "# 📍 3. Group & Feature Engineering\n",
    "monthly_df = df.groupby([\"from\", \"Month\"]).agg({\n",
    "    \"text\": \"count\",\n",
    "    \"char_count\": \"mean\",\n",
    "    \"word_count\": \"mean\",\n",
    "    \"Sentiment_Score\": \"sum\"\n",
    "}).reset_index()\n",
    "\n",
    "monthly_df = monthly_df.rename(columns={\n",
    "    \"from\": \"Employee\",\n",
    "    \"text\": \"msg_count\",\n",
    "    \"char_count\": \"avg_msg_length\",\n",
    "    \"word_count\": \"avg_word_count\",\n",
    "    \"Sentiment_Score\": \"sentiment_score\"\n",
    "})\n"
   ]
  },
  {
   "cell_type": "code",
   "execution_count": 10,
   "id": "e22a4cb2",
   "metadata": {},
   "outputs": [
    {
     "name": "stdout",
     "output_type": "stream",
     "text": [
      "13 -1\n"
     ]
    }
   ],
   "source": [
    "# 📍 4. Train/Test Split\n",
    "features = [\"msg_count\", \"avg_msg_length\", \"avg_word_count\"]\n",
    "X = monthly_df[features]\n",
    "y = monthly_df[\"sentiment_score\"]\n",
    "print(y.max(), y.min())\n",
    "\n",
    "X_train, X_test, y_train, y_test = train_test_split(X, y, test_size=0.2, random_state=42)"
   ]
  },
  {
   "cell_type": "code",
   "execution_count": null,
   "id": "86a2ac00",
   "metadata": {},
   "outputs": [
    {
     "name": "stdout",
     "output_type": "stream",
     "text": [
      "R^2 Score: -0.07987317420466811\n",
      "RMSE: 2.739820867242146\n",
      "          Feature  Coefficient\n",
      "0  avg_msg_length     0.021008\n",
      "1  avg_word_count    -0.101724\n",
      "     Actual  Predicted\n",
      "24        4   3.452596\n",
      "6         7   3.488799\n",
      "93        6   3.712600\n",
      "109       3   3.118647\n",
      "104       4   3.641014\n",
      "172       7   3.349026\n",
      "233       2   2.523649\n",
      "86        6   3.736564\n",
      "9         3   2.953552\n",
      "143       5   3.898417\n"
     ]
    }
   ],
   "source": [
    "# 📍 5. Linear Regression\n",
    "model = LinearRegression()\n",
    "model.fit(X_train, y_train)\n",
    "\n",
    "y_pred = model.predict(X_test)\n",
    "\n",
    "# ------------------------------------------------------------\n",
    "# 📍 6. Evaluation\n",
    "print(\"R^2 Score:\", r2_score(y_test, y_pred))\n",
    "print(\"RMSE:\", np.sqrt(mean_squared_error(y_test, y_pred)))\n",
    "\n",
    "# Coefficients\n",
    "coef_df = pd.DataFrame({\n",
    "    \"Feature\": features,\n",
    "    \"Coefficient\": model.coef_\n",
    "})\n",
    "print(coef_df)"
   ]
  }
 ],
 "metadata": {
  "kernelspec": {
   "display_name": "venv",
   "language": "python",
   "name": "python3"
  },
  "language_info": {
   "codemirror_mode": {
    "name": "ipython",
    "version": 3
   },
   "file_extension": ".py",
   "mimetype": "text/x-python",
   "name": "python",
   "nbconvert_exporter": "python",
   "pygments_lexer": "ipython3",
   "version": "3.11.9"
  }
 },
 "nbformat": 4,
 "nbformat_minor": 5
}
