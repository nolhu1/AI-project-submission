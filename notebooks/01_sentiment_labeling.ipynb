{
 "cells": [
  {
   "cell_type": "markdown",
   "id": "ed3d4ab1",
   "metadata": {},
   "source": [
    "Setup"
   ]
  },
  {
   "cell_type": "code",
   "execution_count": null,
   "id": "00f0dbe8",
   "metadata": {},
   "outputs": [],
   "source": [
    "import pandas as pd\n",
    "from textblob import TextBlob\n",
    "from tqdm import tqdm\n",
    "import os\n"
   ]
  },
  {
   "cell_type": "code",
   "execution_count": null,
   "id": "867efa8c",
   "metadata": {},
   "outputs": [],
   "source": []
  },
  {
   "cell_type": "markdown",
   "id": "4ac1b2b8",
   "metadata": {},
   "source": [
    "load data"
   ]
  },
  {
   "cell_type": "code",
   "execution_count": null,
   "id": "81fb39a9",
   "metadata": {},
   "outputs": [],
   "source": [
    "df = pd.read_csv('../data/raw/test.csv')\n",
    "print(df.isna().mean().sort_values(ascending=False))\n",
    "df = df.fillna('')  # Replace NaNs with empty strings"
   ]
  },
  {
   "cell_type": "markdown",
   "id": "8184d359",
   "metadata": {},
   "source": [
    "Combine 'body' and 'subject'\n"
   ]
  },
  {
   "cell_type": "code",
   "execution_count": null,
   "id": "49b53b3d",
   "metadata": {},
   "outputs": [],
   "source": [
    "df['text'] = df.apply(lambda row: row['body'] if row['body'].strip() else row['Subject'], axis=1)\n",
    "df = df[df['text'].str.strip() != '']  # Drop rows with no usable text"
   ]
  },
  {
   "cell_type": "markdown",
   "id": "1abec41c",
   "metadata": {},
   "source": [
    "label sentiment"
   ]
  },
  {
   "cell_type": "code",
   "execution_count": null,
   "id": "9bee93f1",
   "metadata": {},
   "outputs": [],
   "source": [
    "def classify_sentiment(text):\n",
    "    polarity = TextBlob(text).sentiment.polarity\n",
    "    if polarity > 0.1:\n",
    "        return 'Positive'\n",
    "    elif polarity < -0.1:\n",
    "        return 'Negative'\n",
    "    else:\n",
    "        return 'Neutral'\n",
    "\n",
    "tqdm.pandas()\n",
    "df['Sentiment'] = df['text'].progress_apply(classify_sentiment)"
   ]
  },
  {
   "cell_type": "markdown",
   "id": "2af7fce7",
   "metadata": {},
   "source": [
    "### Sentiment Threshold Justification\n",
    "This project uses TextBlob to assign sentiment labels based on polarity scores. A threshold of ±0.1 was used to label Neutral sentiment:\n",
    "- Polarity > 0.1 → Positive  \n",
    "- Polarity < –0.1 → Negative  \n",
    "- Otherwise → Neutral"
   ]
  },
  {
   "cell_type": "markdown",
   "id": "e66f4a8a",
   "metadata": {},
   "source": [
    "save labeled data"
   ]
  },
  {
   "cell_type": "code",
   "execution_count": null,
   "id": "3a9126d7",
   "metadata": {},
   "outputs": [],
   "source": [
    "os.makedirs('../data/processed', exist_ok=True)\n",
    "df.to_csv('../data/processed/labeled_messages.csv', index=False)"
   ]
  },
  {
   "cell_type": "markdown",
   "id": "8d9b23dd",
   "metadata": {},
   "source": [
    "summary"
   ]
  },
  {
   "cell_type": "code",
   "execution_count": null,
   "id": "390fe9e4",
   "metadata": {},
   "outputs": [],
   "source": [
    "print(df['Sentiment'].value_counts())"
   ]
  }
 ],
 "metadata": {
  "kernelspec": {
   "display_name": "venv",
   "language": "python",
   "name": "python3"
  },
  "language_info": {
   "codemirror_mode": {
    "name": "ipython",
    "version": 3
   },
   "file_extension": ".py",
   "mimetype": "text/x-python",
   "name": "python",
   "nbconvert_exporter": "python",
   "pygments_lexer": "ipython3",
   "version": "3.11.9"
  }
 },
 "nbformat": 4,
 "nbformat_minor": 5
}
