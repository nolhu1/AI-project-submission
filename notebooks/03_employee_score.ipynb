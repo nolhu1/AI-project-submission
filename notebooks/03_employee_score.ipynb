{
 "cells": [
  {
   "cell_type": "code",
   "execution_count": 1,
   "id": "90ac68c5",
   "metadata": {},
   "outputs": [],
   "source": [
    "# 📍 1. Imports\n",
    "import pandas as pd\n",
    "from pathlib import Path"
   ]
  },
  {
   "cell_type": "code",
   "execution_count": null,
   "id": "22d89310",
   "metadata": {},
   "outputs": [],
   "source": [
    "# 📍 2. Load Labeled Data\n",
    "df = pd.read_csv(\"../data/processed/labeled_messages.csv\")\n",
    "def clean_date(x):\n",
    "    \"\"\"Convert '########' or empty strings to NaT, else parse M/D/YYYY.\"\"\"\n",
    "    if isinstance(x, str) and x.strip().startswith(\"#\"):\n",
    "        return pd.NaT\n",
    "    try:\n",
    "        return pd.to_datetime(x, format=\"%m/%d/%Y\", errors=\"coerce\")\n",
    "    except Exception:\n",
    "        return pd.NaT\n",
    "\n",
    "df[\"date_parsed\"] = df[\"date\"].apply(clean_date)\n",
    "#save parsed date column\n",
    "df.to_csv(\"../data/processed/labeled_messages.csv\", index=False)\n",
    "df = df.dropna(subset=[\"date_parsed\"])  # Drop rows without date"
   ]
  },
  {
   "cell_type": "code",
   "execution_count": 4,
   "id": "aa4d4a0c",
   "metadata": {},
   "outputs": [],
   "source": [
    "sentiment_map = {\"Positive\": 1, \"Negative\": -1, \"Neutral\": 0}\n",
    "df[\"Sentiment_Score\"] = df[\"Sentiment\"].map(sentiment_map)"
   ]
  },
  {
   "cell_type": "markdown",
   "id": "51d2c45c",
   "metadata": {},
   "source": [
    "The monthly sentiment score directly aggregates labeled values with no weighting or scaling."
   ]
  },
  {
   "cell_type": "code",
   "execution_count": 5,
   "id": "b8830f83",
   "metadata": {},
   "outputs": [],
   "source": [
    "df[\"YearMonth\"] = df[\"date_parsed\"].dt.to_period(\"M\")"
   ]
  },
  {
   "cell_type": "code",
   "execution_count": 6,
   "id": "5bf616e3",
   "metadata": {},
   "outputs": [],
   "source": [
    "monthly_scores = (\n",
    "    df.groupby([\"from\", \"YearMonth\"])[\"Sentiment_Score\"]\n",
    "    .sum()\n",
    "    .reset_index()\n",
    "    .rename(columns={\"from\": \"Employee\", \"YearMonth\": \"Month\", \"Sentiment_Score\": \"Score\"})\n",
    ")"
   ]
  },
  {
   "cell_type": "code",
   "execution_count": null,
   "id": "64a6ba9a",
   "metadata": {},
   "outputs": [
    {
     "name": "stdout",
     "output_type": "stream",
     "text": [
      "                      Employee    Month  Score\n",
      "0  bobette.riner@ipgdirect.com  2010-01      2\n",
      "1  bobette.riner@ipgdirect.com  2010-02      7\n",
      "2  bobette.riner@ipgdirect.com  2010-03      4\n",
      "3  bobette.riner@ipgdirect.com  2010-04      2\n",
      "4  bobette.riner@ipgdirect.com  2010-05      1\n"
     ]
    }
   ],
   "source": [
    "print(monthly_scores.head())\n",
    "monthly_scores.to_csv(\"../data/processed/monthly_sentiment_scores.csv\", index=False)"
   ]
  }
 ],
 "metadata": {
  "kernelspec": {
   "display_name": "venv",
   "language": "python",
   "name": "python3"
  },
  "language_info": {
   "codemirror_mode": {
    "name": "ipython",
    "version": 3
   },
   "file_extension": ".py",
   "mimetype": "text/x-python",
   "name": "python",
   "nbconvert_exporter": "python",
   "pygments_lexer": "ipython3",
   "version": "3.11.9"
  }
 },
 "nbformat": 4,
 "nbformat_minor": 5
}
