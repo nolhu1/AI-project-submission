{
 "cells": [
  {
   "cell_type": "code",
   "execution_count": null,
   "id": "a5c46581",
   "metadata": {},
   "outputs": [],
   "source": [
    "# ------------------------------------------------------------\n",
    "# 📍 0. Notebook Title & Purpose\n",
    "# Employee Sentiment Analysis · Task 5: Flight Risk Detection\n",
    "# ------------------------------------------------------------\n",
    "\n",
    "# ------------------------------------------------------------\n",
    "# 📍 1. Imports\n",
    "import pandas as pd\n",
    "from pathlib import Path\n",
    "from datetime import timedelta\n",
    "\n",
    "# ------------------------------------------------------------\n",
    "# 📍 2. Load Data\n",
    "df = pd.read_csv(\"../data/processed/labeled_messages.csv\")\n",
    "df[\"date_parsed\"] = pd.to_datetime(df[\"date_parsed\"], errors=\"coerce\")\n",
    "\n",
    "# Keep only negative messages with a valid date\n",
    "df_neg = df[(df[\"Sentiment\"] == \"Negative\") & (df[\"date_parsed\"].notna())]\n",
    "df_neg = df_neg.sort_values([\"from\", \"date_parsed\"])\n",
    "\n",
    "# ------------------------------------------------------------\n",
    "# 📍 3. Identify Rolling 30-day Negative Message Clusters\n",
    "def flag_risk(group):\n",
    "    risk_dates = []\n",
    "    dates = group[\"date_parsed\"].tolist()\n",
    "    for i in range(len(dates)):\n",
    "        count = 1\n",
    "        start = dates[i]\n",
    "        for j in range(i+1, len(dates)):\n",
    "            if (dates[j] - start).days <= 30:\n",
    "                count += 1\n",
    "            else:\n",
    "                break\n",
    "        if count >= 4:\n",
    "            risk_dates.append(start)\n",
    "    return pd.Series({\"At_Risk\": len(risk_dates) > 0})\n",
    "\n",
    "risk_flags = df_neg.groupby(\"from\").apply(flag_risk).reset_index()\n",
    "risk_flags = risk_flags.rename(columns={\"from\": \"Employee\"})\n",
    "\n",
    "# ------------------------------------------------------------\n",
    "# 📍 4. Output & Save\n",
    "print(risk_flags[risk_flags[\"At_Risk\"] == True])\n",
    "risk_flags.to_csv(\"../data/processed/flight_risk_employees.csv\", index=False)\n"
   ]
  }
 ],
 "metadata": {
  "language_info": {
   "name": "python"
  }
 },
 "nbformat": 4,
 "nbformat_minor": 5
}
