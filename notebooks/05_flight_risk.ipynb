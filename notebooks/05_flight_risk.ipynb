{
 "cells": [
  {
   "cell_type": "code",
   "execution_count": 1,
   "id": "a5c46581",
   "metadata": {},
   "outputs": [
    {
     "name": "stdout",
     "output_type": "stream",
     "text": [
      "                      Employee  At_Risk\n",
      "0  bobette.riner@ipgdirect.com     True\n",
      "3        john.arnold@enron.com     True\n",
      "4      johnny.palmer@enron.com     True\n",
      "6      lydia.delgado@enron.com     True\n",
      "7     patti.thompson@enron.com     True\n",
      "8      rhonda.denton@enron.com     True\n",
      "9         sally.beck@enron.com     True\n"
     ]
    },
    {
     "name": "stderr",
     "output_type": "stream",
     "text": [
      "C:\\Users\\admin\\AppData\\Local\\Temp\\ipykernel_28872\\3465333189.py:38: FutureWarning: DataFrameGroupBy.apply operated on the grouping columns. This behavior is deprecated, and in a future version of pandas the grouping columns will be excluded from the operation. Either pass `include_groups=False` to exclude the groupings or explicitly select the grouping columns after groupby to silence this warning.\n",
      "  risk_flags = df_neg.groupby(\"from\").apply(flag_risk).reset_index()\n"
     ]
    }
   ],
   "source": [
    "# ------------------------------------------------------------\n",
    "# 📍 0. Notebook Title & Purpose\n",
    "# Employee Sentiment Analysis · Task 5: Flight Risk Detection\n",
    "# ------------------------------------------------------------\n",
    "\n",
    "# ------------------------------------------------------------\n",
    "# 📍 1. Imports\n",
    "import pandas as pd\n",
    "from pathlib import Path\n",
    "from datetime import timedelta\n",
    "\n",
    "# ------------------------------------------------------------\n",
    "# 📍 2. Load Data\n",
    "df = pd.read_csv(\"../data/processed/labeled_messages.csv\")\n",
    "df[\"date_parsed\"] = pd.to_datetime(df[\"date_parsed\"], errors=\"coerce\")\n",
    "\n",
    "# Keep only negative messages with a valid date\n",
    "df_neg = df[(df[\"Sentiment\"] == \"Negative\") & (df[\"date_parsed\"].notna())]\n",
    "df_neg = df_neg.sort_values([\"from\", \"date_parsed\"])\n",
    "\n",
    "# ------------------------------------------------------------\n",
    "# 📍 3. Identify Rolling 30-day Negative Message Clusters\n",
    "def flag_risk(group):\n",
    "    risk_dates = []\n",
    "    dates = group[\"date_parsed\"].tolist()\n",
    "    for i in range(len(dates)):\n",
    "        count = 1\n",
    "        start = dates[i]\n",
    "        for j in range(i+1, len(dates)):\n",
    "            if (dates[j] - start).days <= 30:\n",
    "                count += 1\n",
    "            else:\n",
    "                break\n",
    "        if count >= 4:\n",
    "            risk_dates.append(start)\n",
    "    return pd.Series({\"At_Risk\": len(risk_dates) > 0})\n",
    "\n",
    "risk_flags = df_neg.groupby(\"from\").apply(flag_risk).reset_index()\n",
    "risk_flags = risk_flags.rename(columns={\"from\": \"Employee\"})\n",
    "\n",
    "# ------------------------------------------------------------\n",
    "# 📍 4. Output & Save\n",
    "print(risk_flags[risk_flags[\"At_Risk\"] == True])\n",
    "risk_flags.to_csv(\"../data/processed/flight_risk_employees.csv\", index=False)\n"
   ]
  }
 ],
 "metadata": {
  "kernelspec": {
   "display_name": "venv",
   "language": "python",
   "name": "python3"
  },
  "language_info": {
   "codemirror_mode": {
    "name": "ipython",
    "version": 3
   },
   "file_extension": ".py",
   "mimetype": "text/x-python",
   "name": "python",
   "nbconvert_exporter": "python",
   "pygments_lexer": "ipython3",
   "version": "3.11.9"
  }
 },
 "nbformat": 4,
 "nbformat_minor": 5
}
